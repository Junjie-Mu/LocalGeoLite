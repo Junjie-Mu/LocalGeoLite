{
 "cells": [
  {
   "cell_type": "markdown",
   "id": "1ab11a23665ddc16",
   "metadata": {},
   "source": [
    "### Example Usage"
   ]
  },
  {
   "cell_type": "code",
   "execution_count": 1,
   "id": "521b97c7dc048254",
   "metadata": {
    "ExecuteTime": {
     "end_time": "2025-02-02T15:19:51.483025Z",
     "start_time": "2025-02-02T15:19:33.111970Z"
    }
   },
   "outputs": [
    {
     "name": "stdout",
     "output_type": "stream",
     "text": [
      "🦥 Unsloth: Will patch your computer to enable 2x faster free finetuning.\n",
      "🦥 Unsloth Zoo will now patch everything to make training faster!\n",
      "🎯 Loading new model instance\n",
      "🟠 Downloading takes some time...\n",
      "==((====))==  Unsloth 2025.1.8: Fast Qwen2 patching. Transformers: 4.48.2.\n",
      "   \\\\   /|    GPU: NVIDIA GeForce RTX 4070 Laptop GPU. Max memory: 7.996 GB. Platform: Windows.\n",
      "O^O/ \\_/ \\    Torch: 2.6.0+cu126. CUDA: 8.9. CUDA Toolkit: 12.6. Triton: 3.1.0\n",
      "\\        /    Bfloat16 = TRUE. FA [Xformers = 0.0.29.post2. FA2 = False]\n",
      " \"-____-\"     Free Apache license: http://github.com/unslothai/unsloth\n",
      "Unsloth: Fast downloading is enabled - ignore downloading bars which are red colored!\n"
     ]
    },
    {
     "name": "stderr",
     "output_type": "stream",
     "text": [
      "Unsloth 2025.1.8 patched 28 layers with 28 QKV layers, 28 O layers and 28 MLP layers.\n"
     ]
    }
   ],
   "source": [
    "# Load model\n",
    "from LocalGeoLite import load_model, code, text, unload_model\n",
    "load_model(cache_dir=\"D:/HuggingFace/Models\")"
   ]
  },
  {
   "cell_type": "code",
   "execution_count": 2,
   "id": "f9b55046d8b0cf9b",
   "metadata": {
    "ExecuteTime": {
     "end_time": "2025-02-02T15:20:02.564194Z",
     "start_time": "2025-02-02T15:19:57.681023Z"
    }
   },
   "outputs": [
    {
     "name": "stdout",
     "output_type": "stream",
     "text": [
      "### Instruction:\n",
      "You are an expert in GIS and Python programming, specializing in producing high-quality and concise Python code, and do not comment the code.\n",
      "\n",
      "### Input:\n",
      "Please generate the code for Read a GeoJSON file into a GeoDataFrame. using Python and make sure the syntax is correct.\n",
      "\n",
      "### Response:\n",
      "```python\n",
      "import geopandas as gpd\n",
      "\n",
      "def read_geojson(file_path):\n",
      "    \"\"\"\n",
      "    Read a GeoJSON file into a GeoDataFrame.\n",
      "\n",
      "    Parameters:\n",
      "    file_path (str): The path to the GeoJSON file.\n",
      "\n",
      "    Returns:\n",
      "    gpd.GeoDataFrame: The GeoDataFrame containing the data from the GeoJSON file.\n",
      "    \"\"\"\n",
      "    gdf = gpd.read_file(file_path)\n",
      "    return gdf\n",
      "```<|endoftext|>\n"
     ]
    }
   ],
   "source": [
    "# Generatea code\n",
    "code(\"Read a GeoJSON file into a GeoDataFrame.\")"
   ]
  },
  {
   "cell_type": "code",
   "execution_count": 3,
   "id": "bbb800b1-86d0-4883-bb25-616a95f2f20e",
   "metadata": {
    "ExecuteTime": {
     "end_time": "2025-02-02T15:20:08.970275Z",
     "start_time": "2025-02-02T15:20:08.745057Z"
    }
   },
   "outputs": [
    {
     "name": "stdout",
     "output_type": "stream",
     "text": [
      "### Instruction:\n",
      "You are a GIS expert specializing in geospatial analysis, remote sensing, and coordinate systems. Based on the given input, provide a concise and accurate response related to geographic data processing, GPS applications, spatial analysis, or map projections.\n",
      "\n",
      "### Input:\n",
      "Please answer the question: Descirbe TIN and make sure you answer is concise and professionally.\n",
      "\n",
      "### Response:\n",
      "TIN (Triangulated Irregular Network) is a data structure used in GIS for representing terrain surfaces. It consists of a set of non-overlapping triangles that connect points on the surface, providing a flexible and efficient way to model complex topography. TINs are commonly used for terrain analysis, visualization, and modeling in various applications, including land management, urban planning, and environmental studies.<|endoftext|>\n"
     ]
    }
   ],
   "source": [
    "# Generate text\n",
    "text(\"Descirbe TIN\")"
   ]
  },
  {
   "cell_type": "code",
   "execution_count": 4,
   "id": "6ee21ee2-a443-4ac0-b08b-b9febdf8977b",
   "metadata": {},
   "outputs": [
    {
     "name": "stdout",
     "output_type": "stream",
     "text": [
      "🔄 Running in Jupyter. For complete GPU memory clearance, please restart the kernel.\n",
      "ℹ️ Tip: You can restart the kernel by clicking 'Kernel' -> 'Restart' in the menu.\n"
     ]
    }
   ],
   "source": [
    "unload_model()"
   ]
  },
  {
   "cell_type": "code",
   "execution_count": null,
   "id": "7ee0b221-ab10-4476-bfe9-c80729e6c8e4",
   "metadata": {},
   "outputs": [],
   "source": []
  }
 ],
 "metadata": {
  "kernelspec": {
   "display_name": "Python 3 (ipykernel)",
   "language": "python",
   "name": "python3"
  },
  "language_info": {
   "codemirror_mode": {
    "name": "ipython",
    "version": 3
   },
   "file_extension": ".py",
   "mimetype": "text/x-python",
   "name": "python",
   "nbconvert_exporter": "python",
   "pygments_lexer": "ipython3",
   "version": "3.10.16"
  }
 },
 "nbformat": 4,
 "nbformat_minor": 5
}
